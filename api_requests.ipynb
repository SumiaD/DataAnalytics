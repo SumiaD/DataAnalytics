{
 "cells": [
  {
   "cell_type": "markdown",
   "metadata": {},
   "source": [
    "## Imports all libraries"
   ]
  },
  {
   "cell_type": "code",
   "execution_count": null,
   "metadata": {},
   "outputs": [],
   "source": [
    "import requests\n",
    "import pandas as pd\n",
    "from pandas import json_normalize\n",
    "import json\n",
    "import plotly.express as px"
   ]
  },
  {
   "cell_type": "markdown",
   "metadata": {},
   "source": [
    "## Request the total cases in germany for every day."
   ]
  },
  {
   "cell_type": "code",
   "execution_count": null,
   "metadata": {},
   "outputs": [],
   "source": [
    "## Get data from the api\n",
    "\n",
    "reqUrl = \"https://api.corona-zahlen.org/germany/history/cases\"\n",
    "\n",
    "headersList = {\n",
    " \"Accept\": \"*/*\" \n",
    "}\n",
    "\n",
    "payload = \"\"\n",
    "\n",
    "response = requests.request(\"GET\", reqUrl, data=payload,  headers=headersList)\n",
    "\n",
    "data = response.json()\n",
    "\n",
    "#print(response.text)"
   ]
  },
  {
   "cell_type": "markdown",
   "metadata": {},
   "source": [
    "#### Prepare the format"
   ]
  },
  {
   "cell_type": "code",
   "execution_count": null,
   "metadata": {},
   "outputs": [],
   "source": [
    "cases = pd.json_normalize(data, record_path =['data'])\n",
    "print(cases)"
   ]
  },
  {
   "cell_type": "markdown",
   "metadata": {},
   "source": [
    "#### Start working with your data"
   ]
  },
  {
   "cell_type": "code",
   "execution_count": null,
   "metadata": {},
   "outputs": [],
   "source": [
    "## Check the formats\n",
    "\n",
    "print(cases.dtypes)"
   ]
  },
  {
   "cell_type": "code",
   "execution_count": null,
   "metadata": {},
   "outputs": [],
   "source": [
    "## Convert date to date format\n",
    "\n",
    "cases[\"date\"] = pd.to_datetime(cases[\"date\"])\n",
    "\n",
    "print(cases.dtypes)"
   ]
  },
  {
   "cell_type": "code",
   "execution_count": null,
   "metadata": {},
   "outputs": [],
   "source": [
    "## Sort data by date\n",
    "\n",
    "cases.sort_values(by='date', ascending = True, inplace=True)\n",
    "print(cases)"
   ]
  },
  {
   "cell_type": "code",
   "execution_count": null,
   "metadata": {},
   "outputs": [],
   "source": [
    "## Sort data by most cases\n",
    "\n",
    "cases.sort_values(by='cases', ascending = False, inplace=True)\n",
    "print(cases)"
   ]
  },
  {
   "cell_type": "code",
   "execution_count": null,
   "metadata": {},
   "outputs": [],
   "source": [
    "## Filter out year 2022\n",
    "\n",
    "year = 2022\n",
    "\n",
    "cases_2022 = cases[cases['date'].dt.year == year]\n",
    "\n",
    "print(cases_2022)"
   ]
  },
  {
   "cell_type": "code",
   "execution_count": null,
   "metadata": {},
   "outputs": [],
   "source": [
    "## Group cases by months\n",
    "\n",
    "cases_2022_by_month = cases_2022.groupby(cases_2022['date'].dt.strftime('%m %B'))['cases'].sum().sort_index()\n",
    "\n",
    "print(cases_2022_by_month)"
   ]
  },
  {
   "cell_type": "markdown",
   "metadata": {},
   "source": [
    "#### Visualize your data"
   ]
  },
  {
   "cell_type": "code",
   "execution_count": null,
   "metadata": {},
   "outputs": [],
   "source": [
    "cases['month'] = cases['date'].dt.month\n",
    "fig = px.bar(cases, x='date', y=\"cases\")\n",
    "fig.show()"
   ]
  },
  {
   "cell_type": "markdown",
   "metadata": {},
   "source": [
    "## Request the total deaths in germany for every day."
   ]
  },
  {
   "cell_type": "code",
   "execution_count": null,
   "metadata": {},
   "outputs": [],
   "source": [
    "## Get data from the api\n",
    "\n",
    "reqUrl = \"https://api.corona-zahlen.org/germany/history/deaths\"\n",
    "\n",
    "headersList = {\n",
    " \"Accept\": \"*/*\" \n",
    "}\n",
    "\n",
    "payload = \"\"\n",
    "\n",
    "response = requests.request(\"GET\", reqUrl, data=payload,  headers=headersList)\n",
    "\n",
    "print(response.text)"
   ]
  },
  {
   "cell_type": "markdown",
   "metadata": {},
   "source": [
    "### Request corona stats per state"
   ]
  },
  {
   "cell_type": "code",
   "execution_count": null,
   "metadata": {},
   "outputs": [],
   "source": [
    "## Get data from the api\n",
    "\n",
    "reqUrl = \"https://api.corona-zahlen.org/states\"\n",
    "\n",
    "headersList = {\n",
    " \"Accept\": \"*/*\" \n",
    "}\n",
    "\n",
    "payload = \"\"\n",
    "\n",
    "response = requests.request(\"GET\", reqUrl, data=payload,  headers=headersList)\n",
    "\n",
    "print(response.text)"
   ]
  },
  {
   "cell_type": "markdown",
   "metadata": {},
   "source": [
    "### Request hospitalization stats per state"
   ]
  },
  {
   "cell_type": "code",
   "execution_count": null,
   "metadata": {},
   "outputs": [],
   "source": [
    "## Get data from the api\n",
    "\n",
    "reqUrl = \"https://api.corona-zahlen.org/states/history/hospitalization\"\n",
    "\n",
    "headersList = {\n",
    " \"Accept\": \"*/*\" \n",
    "}\n",
    "\n",
    "payload = \"\"\n",
    "\n",
    "response = requests.request(\"GET\", reqUrl, data=payload,  headers=headersList)\n",
    "\n",
    "print(response.text)"
   ]
  },
  {
   "cell_type": "markdown",
   "metadata": {},
   "source": [
    "### Request recovered stats per state"
   ]
  },
  {
   "cell_type": "code",
   "execution_count": null,
   "metadata": {},
   "outputs": [],
   "source": [
    "## Get data from the api\n",
    "\n",
    "reqUrl = \"https://api.corona-zahlen.org/states/history/recovered\"\n",
    "\n",
    "headersList = {\n",
    " \"Accept\": \"*/*\" \n",
    "}\n",
    "\n",
    "payload = \"\"\n",
    "\n",
    "response = requests.request(\"GET\", reqUrl, data=payload,  headers=headersList)\n",
    "\n",
    "print(response.text)"
   ]
  }
 ],
 "metadata": {
  "kernelspec": {
   "display_name": "Python 3.8.10 ('.myvenv': venv)",
   "language": "python",
   "name": "python3"
  },
  "language_info": {
   "codemirror_mode": {
    "name": "ipython",
    "version": 3
   },
   "file_extension": ".py",
   "mimetype": "text/x-python",
   "name": "python",
   "nbconvert_exporter": "python",
   "pygments_lexer": "ipython3",
   "version": "3.8.10"
  },
  "orig_nbformat": 4,
  "vscode": {
   "interpreter": {
    "hash": "b287e9339be5d66a8a0fe6711f66dacff63e669c57cda354dc71c09cc9d0c04b"
   }
  }
 },
 "nbformat": 4,
 "nbformat_minor": 2
}
