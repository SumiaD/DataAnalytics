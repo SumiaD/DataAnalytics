{
 "cells": [
  {
   "cell_type": "markdown",
   "metadata": {},
   "source": [
    "## Imports all libraries"
   ]
  },
  {
   "cell_type": "code",
   "execution_count": null,
   "metadata": {},
   "outputs": [],
   "source": [
    "import requests\n",
    "from urllib.request import urlopen\n",
    "\n",
    "import json\n",
    "\n",
    "import numpy as np\n",
    "import pandas as pd\n",
    "\n",
    "import plotly.express as px\n",
    "\n",
    "from datetime import date, datetime"
   ]
  },
  {
   "cell_type": "markdown",
   "metadata": {},
   "source": [
    "## Request the total cases in germany for every day."
   ]
  },
  {
   "cell_type": "code",
   "execution_count": null,
   "metadata": {},
   "outputs": [],
   "source": [
    "## Get data from the api\n",
    "\n",
    "reqUrl = \"https://api.corona-zahlen.org/germany/history/cases\"\n",
    "\n",
    "headersList = {\n",
    " \"Accept\": \"*/*\" \n",
    "}\n",
    "\n",
    "payload = \"\"\n",
    "\n",
    "response = requests.request(\"GET\", reqUrl, data=payload,  headers=headersList)\n",
    "\n",
    "data = response.json()"
   ]
  },
  {
   "cell_type": "markdown",
   "metadata": {},
   "source": [
    "#### Prepare the format"
   ]
  },
  {
   "cell_type": "code",
   "execution_count": null,
   "metadata": {},
   "outputs": [],
   "source": [
    "## Convert to a data frame\n",
    "\n",
    "cases = pd.json_normalize(data['data'])\n",
    "\n",
    "print(cases)"
   ]
  },
  {
   "cell_type": "markdown",
   "metadata": {},
   "source": [
    "#### Start working with your data"
   ]
  },
  {
   "cell_type": "code",
   "execution_count": null,
   "metadata": {},
   "outputs": [],
   "source": [
    "## Check the formats\n",
    "\n",
    "print(cases.dtypes)"
   ]
  },
  {
   "cell_type": "code",
   "execution_count": null,
   "metadata": {},
   "outputs": [],
   "source": [
    "## Convert date to date format\n",
    "\n",
    "cases[\"date\"] = pd.to_datetime(cases[\"date\"])\n",
    "\n",
    "print(cases.dtypes)"
   ]
  },
  {
   "cell_type": "code",
   "execution_count": null,
   "metadata": {},
   "outputs": [],
   "source": [
    "## Sort data by date\n",
    "\n",
    "cases.sort_values(by='date', ascending = True, inplace=True)\n",
    "\n",
    "print(cases)"
   ]
  },
  {
   "cell_type": "code",
   "execution_count": null,
   "metadata": {},
   "outputs": [],
   "source": [
    "## Sort data by most cases\n",
    "\n",
    "cases.sort_values(by='cases', ascending = False, inplace=True)\n",
    "\n",
    "print(cases)"
   ]
  },
  {
   "cell_type": "code",
   "execution_count": null,
   "metadata": {},
   "outputs": [],
   "source": [
    "## Filter out current year's values\n",
    "\n",
    "year = datetime.today().strftime('%Y')\n",
    "\n",
    "cases_cy = cases[cases['date'].dt.year == int(year)]\n",
    "\n",
    "print(cases_cy)"
   ]
  },
  {
   "cell_type": "code",
   "execution_count": null,
   "metadata": {},
   "outputs": [],
   "source": [
    "## Group cases by months\n",
    "\n",
    "cases_cy_by_month = cases_cy.groupby(cases_cy['date'].dt.strftime('%m %B'))['cases'].sum().sort_index()\n",
    "\n",
    "print(cases_cy_by_month)"
   ]
  },
  {
   "cell_type": "markdown",
   "metadata": {},
   "source": [
    "#### Visualize your data"
   ]
  },
  {
   "cell_type": "code",
   "execution_count": null,
   "metadata": {},
   "outputs": [],
   "source": [
    "## Display cases over time\n",
    "\n",
    "cases['month'] = cases['date'].dt.month\n",
    "\n",
    "fig = px.bar(cases, x='date', y=\"cases\")\n",
    "\n",
    "fig.show()"
   ]
  },
  {
   "cell_type": "markdown",
   "metadata": {},
   "source": [
    "### Request corona stats per state"
   ]
  },
  {
   "cell_type": "code",
   "execution_count": null,
   "metadata": {},
   "outputs": [],
   "source": [
    "## Get data from the api\n",
    "\n",
    "reqUrl = \"https://api.corona-zahlen.org/states\"\n",
    "\n",
    "headersList = {\n",
    " \"Accept\": \"*/*\" \n",
    "}\n",
    "\n",
    "payload = \"\"\n",
    "\n",
    "response = requests.request(\"GET\", reqUrl, data=payload,  headers=headersList)\n",
    "\n",
    "data = response.json()\n"
   ]
  },
  {
   "cell_type": "markdown",
   "metadata": {},
   "source": [
    "#### Convert to a Dataframe"
   ]
  },
  {
   "cell_type": "code",
   "execution_count": null,
   "metadata": {},
   "outputs": [],
   "source": [
    "## Convert to a data frame\n",
    "\n",
    "cases_by_state = pd.DataFrame.from_dict(data['data'], orient='index')\n",
    "\n",
    "for index, row in cases_by_state.iterrows():\n",
    "    delta = row[\"delta\"]\n",
    "    if not pd.isnull(delta):\n",
    "        for k, v in delta.items():\n",
    "            key = f'delta_{k}'\n",
    "            if key not in cases_by_state:\n",
    "                cases_by_state[key] = np.nan\n",
    "            cases_by_state.loc[index, key] = v\n",
    "cases_by_state.drop(columns=[\"delta\"], inplace=True)\n",
    "\n",
    "for index, row in cases_by_state.iterrows():\n",
    "    hospitalization = row[\"hospitalization\"]\n",
    "    if not pd.isnull(hospitalization):\n",
    "        for k, v in hospitalization.items():\n",
    "            key = f'hospitalization_{k}'\n",
    "            if key not in cases_by_state:\n",
    "                cases_by_state[key] = np.nan\n",
    "            cases_by_state.loc[index, key] = v\n",
    "cases_by_state.drop(columns=[\"hospitalization\"], inplace=True)\n",
    "\n",
    "cases_by_state"
   ]
  },
  {
   "cell_type": "markdown",
   "metadata": {},
   "source": [
    "#### Start working with your data"
   ]
  },
  {
   "cell_type": "code",
   "execution_count": null,
   "metadata": {},
   "outputs": [],
   "source": [
    "## Check the formats\n",
    "\n",
    "print(cases_by_state.dtypes)"
   ]
  },
  {
   "cell_type": "code",
   "execution_count": null,
   "metadata": {},
   "outputs": [],
   "source": [
    "## Convert date to date format\n",
    "\n",
    "cases_by_state[\"hospitalization_lastUpdate\"] = pd.to_datetime(cases_by_state[\"hospitalization_lastUpdate\"])\n",
    "cases_by_state[\"hospitalization_date\"] = pd.to_datetime(cases_by_state[\"hospitalization_date\"])\n",
    "\n",
    "print(cases_by_state.dtypes)"
   ]
  },
  {
   "cell_type": "markdown",
   "metadata": {},
   "source": [
    "#### Visualize your data"
   ]
  },
  {
   "cell_type": "code",
   "execution_count": null,
   "metadata": {},
   "outputs": [],
   "source": [
    "# Plot cases by state\n",
    "\n",
    "with urlopen('https://raw.githubusercontent.com/isellsoap/deutschlandGeoJSON/main/2_bundeslaender/1_sehr_hoch.geo.json') as response:\n",
    "    counties = json.load(response)\n",
    "\n",
    "fig = px.choropleth(cases_by_state, geojson=counties, locations='name', featureidkey=\"properties.name\", color='cases',\n",
    "                           color_continuous_scale=\"OrRd\",\n",
    "                           projection=\"mercator\",\n",
    "                           range_color=(0, 5000000),\n",
    "                           labels={'name':'State', 'cases':'Cases'}\n",
    "                          )\n",
    "fig.update_geos(fitbounds=\"locations\", visible=False)\n",
    "fig.update_layout(title_text = \"Today's cases in Germany by state\", margin={\"r\":0,\"t\":50,\"l\":0,\"b\":50})\n",
    "fig.show()"
   ]
  },
  {
   "cell_type": "code",
   "execution_count": null,
   "metadata": {},
   "outputs": [],
   "source": [
    "last_update = cases_by_state['hospitalization_lastUpdate'].iloc[1].strftime(\"%b %d %Y %H:%M\")\n",
    "\n",
    "fig = px.choropleth(cases_by_state, geojson=counties, locations='name', featureidkey=\"properties.name\", color='hospitalization_cases7Days',\n",
    "                           color_continuous_scale=\"OrRd\",\n",
    "                           projection=\"mercator\",\n",
    "                           range_color=(0, 1000),\n",
    "                           labels={'name':'State', 'hospitalization_cases7Days':'Cases7Days'}\n",
    "                          )\n",
    "fig.update_geos(fitbounds=\"locations\", visible=False)\n",
    "fig.update_layout(title_text = f\"Hospitalization cases of the last 7 days in Germany by state (Last Updated: {last_update})\", margin={\"r\":0,\"t\":50,\"l\":0,\"b\":50})\n",
    "fig.show()"
   ]
  },
  {
   "cell_type": "markdown",
   "metadata": {},
   "source": [
    "### Request hospitalization stats per state"
   ]
  },
  {
   "cell_type": "code",
   "execution_count": null,
   "metadata": {},
   "outputs": [],
   "source": [
    "## Get data from the api\n",
    "\n",
    "reqUrl = \"https://api.corona-zahlen.org/states/history/hospitalization\"\n",
    "\n",
    "headersList = {\n",
    " \"Accept\": \"*/*\" \n",
    "}\n",
    "\n",
    "payload = \"\"\n",
    "\n",
    "response = requests.request(\"GET\", reqUrl, data=payload,  headers=headersList)\n",
    "\n",
    "data = response.json()\n",
    "\n",
    "hospitalization_by_state = pd.DataFrame.from_dict(data['data'], orient='index')\n",
    "\n",
    "pd.DataFrame(hospitalization_by_state)"
   ]
  },
  {
   "cell_type": "markdown",
   "metadata": {},
   "source": [
    "### Request recovered stats per state"
   ]
  },
  {
   "cell_type": "code",
   "execution_count": null,
   "metadata": {},
   "outputs": [],
   "source": [
    "## Get data from the api\n",
    "\n",
    "reqUrl = \"https://api.corona-zahlen.org/states/history/recovered\"\n",
    "\n",
    "headersList = {\n",
    " \"Accept\": \"*/*\" \n",
    "}\n",
    "\n",
    "payload = \"\"\n",
    "\n",
    "response = requests.request(\"GET\", reqUrl, data=payload,  headers=headersList)\n",
    "\n",
    "data = response.json()\n",
    "\n",
    "recovered_by_state = pd.DataFrame.from_dict(data['data'], orient='index')\n",
    "\n",
    "pd.DataFrame(recovered_by_state)"
   ]
  }
 ],
 "metadata": {
  "kernelspec": {
   "display_name": "Python 3.8.10 ('.myvenv': venv)",
   "language": "python",
   "name": "python3"
  },
  "language_info": {
   "codemirror_mode": {
    "name": "ipython",
    "version": 3
   },
   "file_extension": ".py",
   "mimetype": "text/x-python",
   "name": "python",
   "nbconvert_exporter": "python",
   "pygments_lexer": "ipython3",
   "version": "3.8.10"
  },
  "orig_nbformat": 4,
  "vscode": {
   "interpreter": {
    "hash": "62da4f6db685e4107d666fb9a3239679fa5a54022e9ac2aa8b456dc622149273"
   }
  }
 },
 "nbformat": 4,
 "nbformat_minor": 2
}
