{
 "cells": [
  {
   "cell_type": "markdown",
   "metadata": {},
   "source": [
    "## Imports all libraries"
   ]
  },
  {
   "cell_type": "code",
   "execution_count": null,
   "metadata": {},
   "outputs": [],
   "source": [
    "import requests\n",
    "import json\n",
    "\n",
    "import plotly.express as px\n",
    "import numpy as np\n",
    "\n",
    "import pandas as pd\n",
    "from pandas import json_normalize"
   ]
  },
  {
   "cell_type": "markdown",
   "metadata": {},
   "source": [
    "## Request the total cases in germany for every day."
   ]
  },
  {
   "cell_type": "code",
   "execution_count": null,
   "metadata": {},
   "outputs": [],
   "source": [
    "## Get data from the api\n",
    "\n",
    "reqUrl = \"https://api.corona-zahlen.org/germany/history/cases\"\n",
    "\n",
    "headersList = {\n",
    " \"Accept\": \"*/*\" \n",
    "}\n",
    "\n",
    "payload = \"\"\n",
    "\n",
    "response = requests.request(\"GET\", reqUrl, data=payload,  headers=headersList)\n",
    "\n",
    "data = response.json()"
   ]
  },
  {
   "cell_type": "markdown",
   "metadata": {},
   "source": [
    "#### Prepare the format"
   ]
  },
  {
   "cell_type": "code",
   "execution_count": null,
   "metadata": {},
   "outputs": [],
   "source": [
    "## Convert to a data frame\n",
    "\n",
    "cases = pd.json_normalize(data['data'])\n",
    "\n",
    "print(cases)"
   ]
  },
  {
   "cell_type": "markdown",
   "metadata": {},
   "source": [
    "#### Start working with your data"
   ]
  },
  {
   "cell_type": "code",
   "execution_count": null,
   "metadata": {},
   "outputs": [],
   "source": [
    "## Check the formats\n",
    "\n",
    "print(cases.dtypes)"
   ]
  },
  {
   "cell_type": "code",
   "execution_count": null,
   "metadata": {},
   "outputs": [],
   "source": [
    "## Convert date to date format\n",
    "\n",
    "cases[\"date\"] = pd.to_datetime(cases[\"date\"])\n",
    "\n",
    "print(cases.dtypes)"
   ]
  },
  {
   "cell_type": "code",
   "execution_count": null,
   "metadata": {},
   "outputs": [],
   "source": [
    "## Sort data by date\n",
    "\n",
    "cases.sort_values(by='date', ascending = True, inplace=True)\n",
    "\n",
    "print(cases)"
   ]
  },
  {
   "cell_type": "code",
   "execution_count": null,
   "metadata": {},
   "outputs": [],
   "source": [
    "## Sort data by most cases\n",
    "\n",
    "cases.sort_values(by='cases', ascending = False, inplace=True)\n",
    "\n",
    "print(cases)"
   ]
  },
  {
   "cell_type": "code",
   "execution_count": null,
   "metadata": {},
   "outputs": [],
   "source": [
    "## Filter out year 2022\n",
    "\n",
    "year = 2022\n",
    "\n",
    "cases_2022 = cases[cases['date'].dt.year == year]\n",
    "\n",
    "print(cases_2022)"
   ]
  },
  {
   "cell_type": "code",
   "execution_count": null,
   "metadata": {},
   "outputs": [],
   "source": [
    "## Group cases by months\n",
    "\n",
    "cases_2022_by_month = cases_2022.groupby(cases_2022['date'].dt.strftime('%m %B'))['cases'].sum().sort_index()\n",
    "\n",
    "print(cases_2022_by_month)"
   ]
  },
  {
   "cell_type": "markdown",
   "metadata": {},
   "source": [
    "#### Visualize your data"
   ]
  },
  {
   "cell_type": "code",
   "execution_count": null,
   "metadata": {},
   "outputs": [],
   "source": [
    "## Display cases over time\n",
    "\n",
    "cases['month'] = cases['date'].dt.month\n",
    "\n",
    "fig = px.bar(cases, x='date', y=\"cases\")\n",
    "\n",
    "fig.show()"
   ]
  },
  {
   "cell_type": "markdown",
   "metadata": {},
   "source": [
    "### Request corona stats per state"
   ]
  },
  {
   "cell_type": "code",
   "execution_count": null,
   "metadata": {},
   "outputs": [],
   "source": [
    "## Get data from the api\n",
    "\n",
    "reqUrl = \"https://api.corona-zahlen.org/states\"\n",
    "\n",
    "headersList = {\n",
    " \"Accept\": \"*/*\" \n",
    "}\n",
    "\n",
    "payload = \"\"\n",
    "\n",
    "response = requests.request(\"GET\", reqUrl, data=payload,  headers=headersList)\n",
    "\n",
    "data = response.json()\n"
   ]
  },
  {
   "cell_type": "markdown",
   "metadata": {},
   "source": [
    "#### Convert to a Dataframe"
   ]
  },
  {
   "cell_type": "code",
   "execution_count": null,
   "metadata": {},
   "outputs": [],
   "source": [
    "## Convert to a data frame\n",
    "\n",
    "cases_by_state = pd.DataFrame.from_dict(data['data'], orient='index')\n",
    "\n",
    "for index, row in cases_by_state.iterrows():\n",
    "    delta = row[\"delta\"]\n",
    "    if not pd.isnull(delta):\n",
    "        for k, v in delta.items():\n",
    "            key = f'delta_{k}'\n",
    "            if key not in cases_by_state:\n",
    "                cases_by_state[key] = np.nan\n",
    "            cases_by_state.loc[index, key] = v\n",
    "cases_by_state.drop(columns=[\"delta\"], inplace=True)\n",
    "\n",
    "for index, row in cases_by_state.iterrows():\n",
    "    hospitalization = row[\"hospitalization\"]\n",
    "    if not pd.isnull(hospitalization):\n",
    "        for k, v in hospitalization.items():\n",
    "            key = f'hospitalization_{k}'\n",
    "            if key not in cases_by_state:\n",
    "                cases_by_state[key] = np.nan\n",
    "            cases_by_state.loc[index, key] = v\n",
    "cases_by_state.drop(columns=[\"hospitalization\"], inplace=True)\n",
    "\n",
    "cases_by_state"
   ]
  },
  {
   "cell_type": "markdown",
   "metadata": {},
   "source": [
    "#### Visualize your data"
   ]
  },
  {
   "cell_type": "markdown",
   "metadata": {},
   "source": [
    "### Request hospitalization stats per state"
   ]
  },
  {
   "cell_type": "code",
   "execution_count": null,
   "metadata": {},
   "outputs": [],
   "source": [
    "## Get data from the api\n",
    "\n",
    "reqUrl = \"https://api.corona-zahlen.org/states/history/hospitalization\"\n",
    "\n",
    "headersList = {\n",
    " \"Accept\": \"*/*\" \n",
    "}\n",
    "\n",
    "payload = \"\"\n",
    "\n",
    "response = requests.request(\"GET\", reqUrl, data=payload,  headers=headersList)\n",
    "\n",
    "data = response.json()\n",
    "\n",
    "print(data)"
   ]
  },
  {
   "cell_type": "markdown",
   "metadata": {},
   "source": [
    "### Request recovered stats per state"
   ]
  },
  {
   "cell_type": "code",
   "execution_count": null,
   "metadata": {},
   "outputs": [],
   "source": [
    "## Get data from the api\n",
    "\n",
    "reqUrl = \"https://api.corona-zahlen.org/states/history/recovered\"\n",
    "\n",
    "headersList = {\n",
    " \"Accept\": \"*/*\" \n",
    "}\n",
    "\n",
    "payload = \"\"\n",
    "\n",
    "response = requests.request(\"GET\", reqUrl, data=payload,  headers=headersList)\n",
    "\n",
    "data = response.json()\n",
    "\n",
    "recovered_by_state = pd.DataFrame.from_dict(data['data'], orient='index')\n",
    "\n",
    "pd.DataFrame(recovered_by_state)"
   ]
  }
 ],
 "metadata": {
  "kernelspec": {
   "display_name": "Python 3.8.10 ('.myvenv': venv)",
   "language": "python",
   "name": "python3"
  },
  "language_info": {
   "codemirror_mode": {
    "name": "ipython",
    "version": 3
   },
   "file_extension": ".py",
   "mimetype": "text/x-python",
   "name": "python",
   "nbconvert_exporter": "python",
   "pygments_lexer": "ipython3",
   "version": "3.8.10"
  },
  "orig_nbformat": 4,
  "vscode": {
   "interpreter": {
    "hash": "62da4f6db685e4107d666fb9a3239679fa5a54022e9ac2aa8b456dc622149273"
   }
  }
 },
 "nbformat": 4,
 "nbformat_minor": 2
}
